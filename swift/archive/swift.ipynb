{
 "cells": [
  {
   "cell_type": "markdown",
   "id": "7effa5a1",
   "metadata": {
    "pycharm": {
     "name": "#%% md\n"
    }
   },
   "source": [
    "##### Now that we have the relevant context, lets decide on priorities for SUs in their individual locations:\n",
    "```\n",
    "def priority_engine():\n",
    "    target_bands = [(12.2, 12.7), .... , ()]\n",
    "    for location in locations:\n",
    "        users = get_users_in_current_location()\n",
    "        \n",
    "        # Relevant for all SUs in a region or diff SUs may have diff scores based on their LOCATION in a REGION\n",
    "        user_distribution_priority = get_SU_distribution_priority()\n",
    "        pu_distribution_priority = get_PU_distribution_priority()\n",
    "        \n",
    "        \n",
    "        \n",
    "        for user in users:\n",
    "            # Check user constraints\n",
    "            if user.op_band in target_bands:\n",
    "                # Calculate priority based on which we might need to move the user into the target band\n",
    "            else:\n",
    "                # As constraints are violated, user is dropped from consideration\n",
    "\n",
    "            # Goal is to generate a score\n",
    "            class_priority_score = get_class_priority(user['class'])\n",
    "            location_priority_score = get_location_priority(user['location'])\n",
    "            mobility_priority_score = get_mobility_priority(user['mobile'])\n",
    "            traffic_priority_score = get_traffic_priority(user['traffic_type'])\n",
    "\n",
    "            score = sum([all_priorities])\n",
    "```\n",
    "##### To consider:\n",
    "* Divide overall space into multiple regions and every region into multiple locations.\n",
    "    * Every region may have its own SU/PU distribution, available spectrum, policies, etc.\n",
    "    * Operational context may vary from one location to another.\n",
    "* Simulate channel characteristics - number & distribution of SU/PU, fading, path loss, etc. "
   ]
  },
  {
   "cell_type": "code",
   "execution_count": 1,
   "id": "286d6b67",
   "metadata": {
    "pycharm": {
     "name": "#%%\n"
    }
   },
   "outputs": [],
   "source": [
    "import pandas as pd\n",
    "import numpy as np\n",
    "import json\n",
    "import json\n",
    "import random\n",
    "import os\n",
    "\n",
    "pd.set_option(\"display.max_rows\", None, \"display.max_columns\", None,'display.max_colwidth', None)"
   ]
  },
  {
   "cell_type": "markdown",
   "id": "9557e6c9",
   "metadata": {
    "pycharm": {
     "name": "#%% md\n"
    }
   },
   "source": [
    "Create Data files"
   ]
  },
  {
   "cell_type": "code",
   "execution_count": 2,
   "id": "43696e78",
   "metadata": {
    "pycharm": {
     "name": "#%%\n"
    }
   },
   "outputs": [],
   "source": [
    "def get_user_classes():\n",
    "    return ['ordinary', 'emergency', 'scientific', 'government']\n",
    "\n",
    "\n",
    "def get_class_priorities():\n",
    "    return {\n",
    "        'ordinary': 1,\n",
    "        'scientific': 2,\n",
    "        'government': 3,\n",
    "        'emergency': 4\n",
    "    }\n",
    "\n",
    "\n",
    "def get_locations():\n",
    "    return [f\"loc{i + 1}\" for i in range(30)]\n",
    "\n",
    "\n",
    "def get_fading_levels():\n",
    "    return ['low', 'average', 'high', 'severe']\n",
    "\n",
    "\n",
    "def get_fading_priority():\n",
    "    return {\n",
    "        'low': 1,\n",
    "        'average': 2,\n",
    "        'high': 3,\n",
    "        'severe': 4\n",
    "    }\n",
    "\n",
    "\n",
    "def get_bands():\n",
    "    return {\n",
    "        \"n1\": [1920, 1980],\n",
    "        \"n2\": [1850, 1910],\n",
    "        \"n3\": [1710, 1785],\n",
    "        \"n5\": [824, 849],\n",
    "        \"n7\": [2500, 2570],\n",
    "        \"n30\": [2305, 2315],\n",
    "        \"n34\": [2010, 2025],\n",
    "        \"n38\": [2570, 2620],\n",
    "        \"n40\": [2300, 2400],\n",
    "        \"n41\": [2496, 2690],\n",
    "        \"n48\": [3550, 3700],\n",
    "        \"n78\": [3300, 3800],\n",
    "        \"n79\": [4400, 5000]\n",
    "    }\n",
    "\n",
    "\n",
    "def get_operating_bands(user_class):\n",
    "    all_bands = [(key, value) for key, value in get_bands().items()]\n",
    "    \n",
    "    if user_class in ['ordinary', 'scientific']:\n",
    "        number_of_bands = random.randint(1, 2)\n",
    "    elif user_class in ['government', 'emergency']:\n",
    "        number_of_bands = random.randint(2, 5)\n",
    "        \n",
    "    sampled_list = random.sample(all_bands, number_of_bands)\n",
    "    \n",
    "    current_band = random.choice(sampled_list)[1]\n",
    "    op_freq = random.randint(current_band[0], current_band[1])\n",
    "    op_bands = [item[1] for item in sampled_list]\n",
    "    \n",
    "    return op_freq, op_bands\n",
    "\n",
    "\n",
    "def get_user_data():\n",
    "    columns = ['user_id', 'location', 'user_type', 'freq_min', 'freq_max']\n",
    "    mobile = [True, False]\n",
    "    user_type = get_user_classes()\n",
    "    locations = get_locations()\n",
    "    data = []\n",
    "\n",
    "    for i in range(500):\n",
    "        user_class = random.choice(user_type)\n",
    "        current_band, op_bands = get_operating_bands(user_class)\n",
    "        data.append({\n",
    "            'id': str(i + 1),\n",
    "            'location': random.choice(locations),\n",
    "            'class': user_class,\n",
    "            'op_freq': current_band,\n",
    "            'allowed_bands': op_bands\n",
    "        })\n",
    "    \n",
    "    return data\n",
    "\n",
    "def get_location_data():\n",
    "    columns = ['location', 'fading']\n",
    "    weather = get_fading_levels()\n",
    "    locations = get_locations()\n",
    "    data = []\n",
    "\n",
    "    for i in range(len(locations)):\n",
    "        data.append({\n",
    "            'location': locations[i],\n",
    "            'fading': random.choice(weather)\n",
    "        })\n",
    "\n",
    "    return data"
   ]
  },
  {
   "cell_type": "markdown",
   "id": "be47341e",
   "metadata": {
    "pycharm": {
     "name": "#%% md\n"
    }
   },
   "source": [
    "Import data files"
   ]
  },
  {
   "cell_type": "code",
   "execution_count": 3,
   "id": "fa5f8655",
   "metadata": {
    "pycharm": {
     "name": "#%%\n"
    }
   },
   "outputs": [
    {
     "data": {
      "text/html": [
       "<div>\n",
       "<style scoped>\n",
       "    .dataframe tbody tr th:only-of-type {\n",
       "        vertical-align: middle;\n",
       "    }\n",
       "\n",
       "    .dataframe tbody tr th {\n",
       "        vertical-align: top;\n",
       "    }\n",
       "\n",
       "    .dataframe thead th {\n",
       "        text-align: right;\n",
       "    }\n",
       "</style>\n",
       "<table border=\"1\" class=\"dataframe\">\n",
       "  <thead>\n",
       "    <tr style=\"text-align: right;\">\n",
       "      <th></th>\n",
       "      <th>location</th>\n",
       "      <th>fading</th>\n",
       "    </tr>\n",
       "  </thead>\n",
       "  <tbody>\n",
       "    <tr>\n",
       "      <th>0</th>\n",
       "      <td>loc1</td>\n",
       "      <td>average</td>\n",
       "    </tr>\n",
       "    <tr>\n",
       "      <th>1</th>\n",
       "      <td>loc2</td>\n",
       "      <td>low</td>\n",
       "    </tr>\n",
       "    <tr>\n",
       "      <th>2</th>\n",
       "      <td>loc3</td>\n",
       "      <td>average</td>\n",
       "    </tr>\n",
       "    <tr>\n",
       "      <th>3</th>\n",
       "      <td>loc4</td>\n",
       "      <td>low</td>\n",
       "    </tr>\n",
       "    <tr>\n",
       "      <th>4</th>\n",
       "      <td>loc5</td>\n",
       "      <td>high</td>\n",
       "    </tr>\n",
       "  </tbody>\n",
       "</table>\n",
       "</div>"
      ],
      "text/plain": [
       "  location   fading\n",
       "0     loc1  average\n",
       "1     loc2      low\n",
       "2     loc3  average\n",
       "3     loc4      low\n",
       "4     loc5     high"
      ]
     },
     "execution_count": 3,
     "metadata": {},
     "output_type": "execute_result"
    }
   ],
   "source": [
    "location_data = pd.DataFrame(get_location_data())\n",
    "location_data.head(5)"
   ]
  },
  {
   "cell_type": "code",
   "execution_count": 4,
   "id": "f2797922",
   "metadata": {
    "pycharm": {
     "name": "#%%\n"
    }
   },
   "outputs": [
    {
     "data": {
      "text/html": [
       "<div>\n",
       "<style scoped>\n",
       "    .dataframe tbody tr th:only-of-type {\n",
       "        vertical-align: middle;\n",
       "    }\n",
       "\n",
       "    .dataframe tbody tr th {\n",
       "        vertical-align: top;\n",
       "    }\n",
       "\n",
       "    .dataframe thead th {\n",
       "        text-align: right;\n",
       "    }\n",
       "</style>\n",
       "<table border=\"1\" class=\"dataframe\">\n",
       "  <thead>\n",
       "    <tr style=\"text-align: right;\">\n",
       "      <th></th>\n",
       "      <th>id</th>\n",
       "      <th>location</th>\n",
       "      <th>class</th>\n",
       "      <th>op_freq</th>\n",
       "      <th>allowed_bands</th>\n",
       "    </tr>\n",
       "  </thead>\n",
       "  <tbody>\n",
       "    <tr>\n",
       "      <th>0</th>\n",
       "      <td>1</td>\n",
       "      <td>loc7</td>\n",
       "      <td>government</td>\n",
       "      <td>3666</td>\n",
       "      <td>[[2305, 2315], [1850, 1910], [2500, 2570], [1920, 1980], [3550, 3700]]</td>\n",
       "    </tr>\n",
       "    <tr>\n",
       "      <th>1</th>\n",
       "      <td>2</td>\n",
       "      <td>loc2</td>\n",
       "      <td>ordinary</td>\n",
       "      <td>2021</td>\n",
       "      <td>[[2010, 2025]]</td>\n",
       "    </tr>\n",
       "    <tr>\n",
       "      <th>2</th>\n",
       "      <td>3</td>\n",
       "      <td>loc11</td>\n",
       "      <td>scientific</td>\n",
       "      <td>2311</td>\n",
       "      <td>[[2305, 2315]]</td>\n",
       "    </tr>\n",
       "    <tr>\n",
       "      <th>3</th>\n",
       "      <td>4</td>\n",
       "      <td>loc18</td>\n",
       "      <td>emergency</td>\n",
       "      <td>1719</td>\n",
       "      <td>[[2010, 2025], [1710, 1785], [2500, 2570]]</td>\n",
       "    </tr>\n",
       "    <tr>\n",
       "      <th>4</th>\n",
       "      <td>5</td>\n",
       "      <td>loc20</td>\n",
       "      <td>government</td>\n",
       "      <td>2579</td>\n",
       "      <td>[[1850, 1910], [2570, 2620], [3550, 3700]]</td>\n",
       "    </tr>\n",
       "  </tbody>\n",
       "</table>\n",
       "</div>"
      ],
      "text/plain": [
       "  id location       class  op_freq  \\\n",
       "0  1     loc7  government     3666   \n",
       "1  2     loc2    ordinary     2021   \n",
       "2  3    loc11  scientific     2311   \n",
       "3  4    loc18   emergency     1719   \n",
       "4  5    loc20  government     2579   \n",
       "\n",
       "                                                            allowed_bands  \n",
       "0  [[2305, 2315], [1850, 1910], [2500, 2570], [1920, 1980], [3550, 3700]]  \n",
       "1                                                          [[2010, 2025]]  \n",
       "2                                                          [[2305, 2315]]  \n",
       "3                              [[2010, 2025], [1710, 1785], [2500, 2570]]  \n",
       "4                              [[1850, 1910], [2570, 2620], [3550, 3700]]  "
      ]
     },
     "execution_count": 4,
     "metadata": {},
     "output_type": "execute_result"
    }
   ],
   "source": [
    "user_data = pd.DataFrame(get_user_data())\n",
    "user_data.head(5)"
   ]
  },
  {
   "cell_type": "markdown",
   "id": "358e6dc6",
   "metadata": {
    "pycharm": {
     "name": "#%% md\n"
    }
   },
   "source": [
    "Get score based on user's class/heirarchy"
   ]
  },
  {
   "cell_type": "code",
   "execution_count": 5,
   "id": "d051d942",
   "metadata": {
    "pycharm": {
     "name": "#%%\n"
    }
   },
   "outputs": [],
   "source": [
    "def get_class_priority(user_class):\n",
    "    priorities = get_class_priorities()\n",
    "    \n",
    "    return priorities.get(user_class, 0)"
   ]
  },
  {
   "cell_type": "markdown",
   "id": "b31de2f1",
   "metadata": {
    "pycharm": {
     "name": "#%% md\n"
    }
   },
   "source": [
    "Get score based on user's location. Score may be affected by multiple factors"
   ]
  },
  {
   "cell_type": "code",
   "execution_count": 6,
   "id": "41420315",
   "metadata": {
    "pycharm": {
     "name": "#%%\n"
    }
   },
   "outputs": [],
   "source": [
    "def get_location_priority(user_location: str):\n",
    "    # fading based priority\n",
    "    fading_level = location_data.loc[location_data['location'] == user_location, 'fading'].item()\n",
    "    priorities_based_on_fading = get_fading_priority()\n",
    "    # Other criterias are also possible\n",
    "    \n",
    "    return sum([\n",
    "        priorities_based_on_fading.get(fading_level, 0)\n",
    "    ])"
   ]
  },
  {
   "cell_type": "markdown",
   "id": "b81fc623",
   "metadata": {
    "pycharm": {
     "name": "#%% md\n"
    }
   },
   "source": [
    "Get all users in a particular location"
   ]
  },
  {
   "cell_type": "code",
   "execution_count": 7,
   "id": "8d5d8fe6",
   "metadata": {
    "pycharm": {
     "name": "#%%\n"
    }
   },
   "outputs": [],
   "source": [
    "def get_users_in_location(location):\n",
    "    returnable = []\n",
    "    users = user_data.loc[user_data['location'] == location, 'id']\n",
    "    \n",
    "    return list(users)"
   ]
  },
  {
   "cell_type": "markdown",
   "id": "9090efbb",
   "metadata": {
    "pycharm": {
     "name": "#%% md\n"
    }
   },
   "source": [
    "Check if user's operational constraints are satisfied"
   ]
  },
  {
   "cell_type": "code",
   "execution_count": 8,
   "id": "280a4bb4",
   "metadata": {
    "pycharm": {
     "name": "#%%\n"
    }
   },
   "outputs": [],
   "source": [
    "def operating_freq_constraint(target_band, user_id):    \n",
    "    allowed_bands = list(user_data.loc[user_data['id'] == user_id, 'allowed_bands'].values[0])\n",
    "    \n",
    "    #     [10, 20] -> [9, 15], [15, 21], [5, 25]\n",
    "    if PARTIAL_BAND_SUPPORT:\n",
    "        for band in allowed_bands:\n",
    "            min_allowed_freq, max_allowed_freq = band[0], band[1]\n",
    "            min_target_freq, max_target_freq = target_band[0], target_band[1]\n",
    "\n",
    "            if min_allowed_freq <= min_target_freq and max_allowed_freq >= max_target_freq:\n",
    "                return True, {}\n",
    "            elif min_allowed_freq <= min_target_freq and max_allowed_freq <= max_target_freq:\n",
    "                return True, {}\n",
    "            elif min_allowed_freq >= min_target_freq and max_allowed_freq >= max_target_freq:\n",
    "                return True, {}\n",
    "    else:\n",
    "        if target_band in allowed_bands:\n",
    "            return True, {}\n",
    "            \n",
    "        \n",
    "    return False, {\n",
    "        'target_bands': [target_band],\n",
    "        'allowed': allowed_bands\n",
    "    }"
   ]
  },
  {
   "cell_type": "code",
   "execution_count": 9,
   "id": "0268e5f9",
   "metadata": {
    "pycharm": {
     "name": "#%%\n"
    }
   },
   "outputs": [],
   "source": [
    "def use_rule_based_algorithm(locations, target_bands):\n",
    "    priority_dict = dict()\n",
    "    invalid_dict = dict()\n",
    "    \n",
    "    for location in locations:\n",
    "        priority_dict[location] = None\n",
    "        users = get_users_in_location(location)\n",
    "        \n",
    "        location_dict = {}\n",
    "        for target_band in target_bands:\n",
    "            band_key = str(target_band[0]) + \"-\" + str(target_band[1])\n",
    "            band_data = {}\n",
    "            for user in users:\n",
    "                class_score, location_score, constraint_score = 0, 0, 0.0\n",
    "                \n",
    "                # Check user constraints\n",
    "                constraint_flag, data = operating_freq_constraint(target_band, user)\n",
    "                if not constraint_flag:\n",
    "                    if user not in invalid_dict:\n",
    "                        data['loc'] = location\n",
    "                        invalid_dict[user] = data\n",
    "                    else:\n",
    "                        invalid_dict[user]['target_bands'].extend(data['target_bands'])\n",
    "                    constraint_score = float('-inf')\n",
    "                \n",
    "                # class based rank\n",
    "                class_score = get_class_priority(user_data.loc[user_data['id'] == user, 'class'].item())\n",
    "                \n",
    "                # location based rank\n",
    "                location_score = get_location_priority(location)\n",
    "                \n",
    "                total_score = sum([class_score, constraint_score, location_score])\n",
    "                \n",
    "                if total_score > 0:\n",
    "                    band_data[user] = total_score\n",
    "            \n",
    "            location_dict[band_key] = band_data\n",
    "        \n",
    "        priority_dict[location] = location_dict\n",
    "    \n",
    "    return priority_dict, invalid_dict"
   ]
  },
  {
   "cell_type": "code",
   "execution_count": 10,
   "id": "cd5cd3f7",
   "metadata": {
    "pycharm": {
     "name": "#%%\n"
    }
   },
   "outputs": [
    {
     "name": "stdout",
     "output_type": "stream",
     "text": [
      "'priorities.json' created\n",
      "'invalid_cases.json' created\n"
     ]
    }
   ],
   "source": [
    "def priority_engine(algorithm, target_bands: list):\n",
    "    locations_under_consideration = get_locations()\n",
    "    \n",
    "    if algorithm == 'RULE_BASED':\n",
    "        priorities = use_rule_based_algorithm(locations_under_consideration, target_bands)\n",
    "    elif algorithm == 'MACHINE_BASED':\n",
    "        priorities = None\n",
    "    \n",
    "    return priorities\n",
    "\n",
    "# test\n",
    "ALGORITHM = 'RULE_BASED'\n",
    "PARTIAL_BAND_SUPPORT = False\n",
    "target_bands = [[3550, 3700], [2010, 2025]]\n",
    "\n",
    "calculated_priorities, invalid_cases = priority_engine(ALGORITHM, target_bands)\n",
    "\n",
    "priority_file = 'priorities.json'\n",
    "rejected_file = 'invalid_cases.json'\n",
    "try:\n",
    "    os.remove(priority_file)\n",
    "    os.remove(rejected_file)\n",
    "except Exception as e:\n",
    "    print(str(e))\n",
    "finally:\n",
    "    with open(priority_file, 'w+') as outfile:\n",
    "        json.dump(calculated_priorities, outfile, indent=4)\n",
    "        print(f\"'{priority_file}' created\")\n",
    "\n",
    "    with open(rejected_file, 'w+') as outf:\n",
    "        json.dump(invalid_cases, outf, indent=4)\n",
    "        print(f\"'{rejected_file}' created\")"
   ]
  },
  {
   "cell_type": "code",
   "execution_count": 22,
   "id": "7b3c328f",
   "metadata": {
    "pycharm": {
     "name": "#%%\n"
    }
   },
   "outputs": [
    {
     "data": {
      "text/html": [
       "<div>\n",
       "<style scoped>\n",
       "    .dataframe tbody tr th:only-of-type {\n",
       "        vertical-align: middle;\n",
       "    }\n",
       "\n",
       "    .dataframe tbody tr th {\n",
       "        vertical-align: top;\n",
       "    }\n",
       "\n",
       "    .dataframe thead th {\n",
       "        text-align: right;\n",
       "    }\n",
       "</style>\n",
       "<table border=\"1\" class=\"dataframe\">\n",
       "  <thead>\n",
       "    <tr style=\"text-align: right;\">\n",
       "      <th></th>\n",
       "      <th>id</th>\n",
       "      <th>location</th>\n",
       "      <th>class</th>\n",
       "      <th>op_freq</th>\n",
       "      <th>allowed_bands</th>\n",
       "    </tr>\n",
       "  </thead>\n",
       "  <tbody>\n",
       "    <tr>\n",
       "      <th>14</th>\n",
       "      <td>15</td>\n",
       "      <td>loc25</td>\n",
       "      <td>ordinary</td>\n",
       "      <td>847</td>\n",
       "      <td>[[824, 849]]</td>\n",
       "    </tr>\n",
       "  </tbody>\n",
       "</table>\n",
       "</div>"
      ],
      "text/plain": [
       "    id location     class  op_freq allowed_bands\n",
       "14  15    loc25  ordinary      847  [[824, 849]]"
      ]
     },
     "execution_count": 22,
     "metadata": {},
     "output_type": "execute_result"
    }
   ],
   "source": [
    "user_data.loc[user_data['id'] == '15']"
   ]
  },
  {
   "cell_type": "code",
   "execution_count": 23,
   "id": "07f24c9e",
   "metadata": {
    "pycharm": {
     "name": "#%%\n"
    }
   },
   "outputs": [
    {
     "data": {
      "text/html": [
       "<div>\n",
       "<style scoped>\n",
       "    .dataframe tbody tr th:only-of-type {\n",
       "        vertical-align: middle;\n",
       "    }\n",
       "\n",
       "    .dataframe tbody tr th {\n",
       "        vertical-align: top;\n",
       "    }\n",
       "\n",
       "    .dataframe thead th {\n",
       "        text-align: right;\n",
       "    }\n",
       "</style>\n",
       "<table border=\"1\" class=\"dataframe\">\n",
       "  <thead>\n",
       "    <tr style=\"text-align: right;\">\n",
       "      <th></th>\n",
       "      <th>id</th>\n",
       "      <th>location</th>\n",
       "      <th>class</th>\n",
       "      <th>op_freq</th>\n",
       "      <th>allowed_bands</th>\n",
       "    </tr>\n",
       "  </thead>\n",
       "  <tbody>\n",
       "    <tr>\n",
       "      <th>234</th>\n",
       "      <td>235</td>\n",
       "      <td>loc21</td>\n",
       "      <td>government</td>\n",
       "      <td>2532</td>\n",
       "      <td>[[2500, 2570], [3300, 3800], [1710, 1785]]</td>\n",
       "    </tr>\n",
       "  </tbody>\n",
       "</table>\n",
       "</div>"
      ],
      "text/plain": [
       "      id location       class  op_freq  \\\n",
       "234  235    loc21  government     2532   \n",
       "\n",
       "                                  allowed_bands  \n",
       "234  [[2500, 2570], [3300, 3800], [1710, 1785]]  "
      ]
     },
     "execution_count": 23,
     "metadata": {},
     "output_type": "execute_result"
    }
   ],
   "source": [
    "user_data.loc[user_data['id'] == '235']"
   ]
  },
  {
   "cell_type": "code",
   "execution_count": 24,
   "id": "2689d2ae",
   "metadata": {
    "pycharm": {
     "name": "#%%\n"
    }
   },
   "outputs": [
    {
     "data": {
      "text/html": [
       "<div>\n",
       "<style scoped>\n",
       "    .dataframe tbody tr th:only-of-type {\n",
       "        vertical-align: middle;\n",
       "    }\n",
       "\n",
       "    .dataframe tbody tr th {\n",
       "        vertical-align: top;\n",
       "    }\n",
       "\n",
       "    .dataframe thead th {\n",
       "        text-align: right;\n",
       "    }\n",
       "</style>\n",
       "<table border=\"1\" class=\"dataframe\">\n",
       "  <thead>\n",
       "    <tr style=\"text-align: right;\">\n",
       "      <th></th>\n",
       "      <th>id</th>\n",
       "      <th>location</th>\n",
       "      <th>class</th>\n",
       "      <th>op_freq</th>\n",
       "      <th>allowed_bands</th>\n",
       "    </tr>\n",
       "  </thead>\n",
       "  <tbody>\n",
       "    <tr>\n",
       "      <th>53</th>\n",
       "      <td>54</td>\n",
       "      <td>loc30</td>\n",
       "      <td>emergency</td>\n",
       "      <td>2307</td>\n",
       "      <td>[[2496, 2690], [2305, 2315]]</td>\n",
       "    </tr>\n",
       "  </tbody>\n",
       "</table>\n",
       "</div>"
      ],
      "text/plain": [
       "    id location      class  op_freq                 allowed_bands\n",
       "53  54    loc30  emergency     2307  [[2496, 2690], [2305, 2315]]"
      ]
     },
     "execution_count": 24,
     "metadata": {},
     "output_type": "execute_result"
    }
   ],
   "source": [
    "user_data.loc[user_data['id'] == '54']"
   ]
  },
  {
   "cell_type": "code",
   "execution_count": 25,
   "id": "ca63ac87",
   "metadata": {
    "pycharm": {
     "name": "#%%\n"
    }
   },
   "outputs": [
    {
     "data": {
      "text/html": [
       "<div>\n",
       "<style scoped>\n",
       "    .dataframe tbody tr th:only-of-type {\n",
       "        vertical-align: middle;\n",
       "    }\n",
       "\n",
       "    .dataframe tbody tr th {\n",
       "        vertical-align: top;\n",
       "    }\n",
       "\n",
       "    .dataframe thead th {\n",
       "        text-align: right;\n",
       "    }\n",
       "</style>\n",
       "<table border=\"1\" class=\"dataframe\">\n",
       "  <thead>\n",
       "    <tr style=\"text-align: right;\">\n",
       "      <th></th>\n",
       "      <th>id</th>\n",
       "      <th>location</th>\n",
       "      <th>class</th>\n",
       "      <th>op_freq</th>\n",
       "      <th>allowed_bands</th>\n",
       "    </tr>\n",
       "  </thead>\n",
       "  <tbody>\n",
       "    <tr>\n",
       "      <th>205</th>\n",
       "      <td>206</td>\n",
       "      <td>loc8</td>\n",
       "      <td>scientific</td>\n",
       "      <td>2610</td>\n",
       "      <td>[[2570, 2620], [1920, 1980]]</td>\n",
       "    </tr>\n",
       "  </tbody>\n",
       "</table>\n",
       "</div>"
      ],
      "text/plain": [
       "      id location       class  op_freq                 allowed_bands\n",
       "205  206     loc8  scientific     2610  [[2570, 2620], [1920, 1980]]"
      ]
     },
     "execution_count": 25,
     "metadata": {},
     "output_type": "execute_result"
    }
   ],
   "source": [
    "user_data.loc[user_data['id'] == '206']"
   ]
  }
 ],
 "metadata": {
  "kernelspec": {
   "display_name": "Python 3 (ipykernel)",
   "language": "python",
   "name": "python3"
  },
  "language_info": {
   "codemirror_mode": {
    "name": "ipython",
    "version": 3
   },
   "file_extension": ".py",
   "mimetype": "text/x-python",
   "name": "python",
   "nbconvert_exporter": "python",
   "pygments_lexer": "ipython3",
   "version": "3.8.10"
  }
 },
 "nbformat": 4,
 "nbformat_minor": 5
}